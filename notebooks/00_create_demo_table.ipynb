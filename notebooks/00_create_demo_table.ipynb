{
 "cells": [
  {
   "cell_type": "code",
   "execution_count": null,
   "metadata": {},
   "outputs": [],
   "source": [
    "%sql\n",
    "CREATE OR REPLACE TABLE ${catalog}.${schema}.demo_sales AS\n",
    "SELECT 1 AS id, 'productA' AS product, 100 AS amount UNION ALL\n",
    "SELECT 2 AS id, 'productB' AS product, 200 AS amount;"
   ]
  }
 ],
 "metadata": {
  "kernelspec": {
   "display_name": "Python 3",
   "language": "python",
   "name": "python3"
  },
  "language_info": {
   "name": "python",
   "version": "3.10"
  }
 },
 "nbformat": 4,
 "nbformat_minor": 5
}
