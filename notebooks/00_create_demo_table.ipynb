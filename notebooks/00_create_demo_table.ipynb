{
 "cells": [
  {
   "cell_type": "code",
   "metadata": {},
   "source": [
    "%sql\n",
    "CREATE OR REPLACE TABLE ${catalog}.${schema}.demo_sales AS\n",
    "SELECT 1 AS id, 'ProductA' AS product, 100 AS amount\n",
    "UNION ALL\n",
    "SELECT 2, 'ProductB', 200\n",
    "UNION ALL\n",
    "SELECT 3, 'ProductC', 300"
   ]
  }
 ],
 "metadata": {
  "language_info": {
   "name": "sql"
  }
 },
 "nbformat": 4,
 "nbformat_minor": 2
}
