{
 "cells": [
  {
   "cell_type": "code",
   "execution_count": null,
   "metadata": {},
   "outputs": [],
   "source": [
    "# Transform Sales Step\n",
    "df = spark.read.table(f\"${catalog}.${schema}.etl_demo_output\")\n",
    "df_filtered = df.filter(df.amount_with_tax > 150)\n",
    "df_filtered.write.mode(\"overwrite\").saveAsTable(f\"${catalog}.${schema}.sales_transformed\")"
   ]
  }
 ],
 "metadata": {
  "kernelspec": {
   "display_name": "Python 3",
   "language": "python",
   "name": "python3"
  },
  "language_info": {
   "name": "python",
   "version": "3.10"
  }
 },
 "nbformat": 4,
 "nbformat_minor": 5
}
