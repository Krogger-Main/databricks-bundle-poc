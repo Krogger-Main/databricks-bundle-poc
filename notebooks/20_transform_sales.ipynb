{
 "cells": [
  {
   "cell_type": "code",
   "metadata": {},
   "source": [
    "%sql\n",
    "CREATE OR REPLACE TABLE ${catalog}.${schema}.demo_sales_summary AS\n",
    "SELECT product, SUM(amount) AS total_sales, SUM(amount_with_tax) AS total_with_tax\n",
    "FROM ${catalog}.${schema}.demo_sales_transformed\n",
    "GROUP BY product"
   ]
  }
 ],
 "metadata": {
  "language_info": {
   "name": "sql"
  }
 },
 "nbformat": 4,
 "nbformat_minor": 2
}
