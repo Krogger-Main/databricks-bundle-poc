{
 "cells": [
  {
   "cell_type": "code",
   "metadata": {},
   "source": [
    "# Basic ETL transformation using PySpark\n",
    "from pyspark.sql import functions as F\n",
    "\n",
    "# Read source table\n",
    "df = spark.table(f\"{catalog}.{schema}.demo_sales\")\n",
    "\n",
    "# Transform: add tax column\n",
    "df = df.withColumn(\"amount_with_tax\", F.col(\"amount\") * 1.1)\n",
    "\n",
    "# Write back\n",
    "df.write.mode(\"overwrite\").saveAsTable(f\"{catalog}.{schema}.demo_sales_transformed\")"
   ]
  }
 ],
 "metadata": {
  "language_info": {
   "name": "python"
  }
 },
 "nbformat": 4,
 "nbformat_minor": 2
}
