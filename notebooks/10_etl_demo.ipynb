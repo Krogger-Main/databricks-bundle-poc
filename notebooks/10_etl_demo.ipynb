{
 "cells": [
  {
   "cell_type": "code",
   "execution_count": null,
   "metadata": {},
   "outputs": [],
   "source": [
    "# ETL Demo Step\n",
    "df = spark.read.table(f\"${catalog}.${schema}.demo_sales\")\n",
    "df_transformed = df.withColumn(\"amount_with_tax\", df.amount * 1.2)\n",
    "df_transformed.write.mode(\"overwrite\").saveAsTable(f\"${catalog}.${schema}.etl_demo_output\")"
   ]
  }
 ],
 "metadata": {
  "kernelspec": {
   "display_name": "Python 3",
   "language": "python",
   "name": "python3"
  },
  "language_info": {
   "name": "python",
   "version": "3.10"
  }
 },
 "nbformat": 4,
 "nbformat_minor": 5
}
